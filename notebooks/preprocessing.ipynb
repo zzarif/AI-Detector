{
 "cells": [
  {
   "cell_type": "markdown",
   "metadata": {},
   "source": [
    "# AI Detector - Data Preprocessing"
   ]
  },
  {
   "cell_type": "markdown",
   "metadata": {},
   "source": [
    "## 1. Import Necessary Dependencies"
   ]
  },
  {
   "cell_type": "markdown",
   "metadata": {},
   "source": [
    "At first, we need to import required libraries for preprocessing"
   ]
  },
  {
   "cell_type": "code",
   "execution_count": 1,
   "metadata": {},
   "outputs": [],
   "source": [
    "import os\n",
    "import json\n",
    "import pandas as pd"
   ]
  },
  {
   "cell_type": "markdown",
   "metadata": {},
   "source": [
    "## 2. Define Necessary Functions\n",
    "Before preprocessing, we must define all the necessary utility functions and components required for preprocessing"
   ]
  },
  {
   "cell_type": "markdown",
   "metadata": {},
   "source": [
    "### 2.1 Initialize File Extensions Dictionary\n",
    "Each of the subdirectories under `dataset-source-codes` directory contains a `.json` file that has a coding question asked for a particular programming language. And rest of the files in that subdirectory are code snippets representing the coding answers for both candidate and LLMs. These files have an extension that is required when loading the code snippet in the next step. The `file_extensions_dict` maps the coding question's programming language from the `.json` file to the coding answer's file extensions.\n",
    "\n",
    "For example, the answer code snippets with `.jav` extension represents the answers to coding question asked in `Java` programming language."
   ]
  },
  {
   "cell_type": "code",
   "execution_count": 2,
   "metadata": {},
   "outputs": [],
   "source": [
    "file_extensions_dict = {\n",
    "    \"Java\": \"jav\",\n",
    "    \"JavaScript\": \"js\",\n",
    "    \"C++\": \"cpp\",\n",
    "    \"Python\": \"py\",\n",
    "    \"Swift\": \"swift\",\n",
    "    \"React\": \"js\",\n",
    "    \"Kotlin\": \"kt\",\n",
    "    \"SQL\": \"sql\",\n",
    "    \"Docker\": \"dockerfile\",\n",
    "    \"C#\": \"cs\",\n",
    "    \"PHP & JavaScript\": \"js\",\n",
    "    \"HTML/CSS\": \"css\",\n",
    "    \"JavaScript-React\": \"js\",\n",
    "    \"PHP\": \"php\",\n",
    "    \"TypeScript\": \"ts\",\n",
    "    \"Go\": \"go\",\n",
    "    \"Dart\": \"dart\"\n",
    "}"
   ]
  },
  {
   "cell_type": "markdown",
   "metadata": {},
   "source": [
    "### 2.2 `load_question_data()` function\n",
    "- **Param:** `source_code_path` -> Absolute path to the provided `dataset-source-codes` directory\n",
    "- **Returns:** `questions` -> A list of all question data as dictionaries\n",
    "\n",
    "This function traverses each subdirectory (`source_code_000` ... `source_code_062`) under `dataset-source-codes` directory and loads the source code dataset as a list of dictionaries. For each of subdirectory this function performs the following actions:\n",
    "1. Initialize a `question_data` dictionary \n",
    "2. Saves the coding question into the dictionary from the respective `.json` file\n",
    "3. Saves the candidate's answer into the dictionary from the respective source code file\n",
    "4. Saves all the variants of the LLM answers into the dictionary from the respective LLM source code files\n",
    "5. Adds the dictionary to the list"
   ]
  },
  {
   "cell_type": "code",
   "execution_count": 3,
   "metadata": {},
   "outputs": [],
   "source": [
    "def load_question_data(source_codes_path):\n",
    "    questions = []\n",
    "    for folder in os.listdir(source_codes_path):\n",
    "        if folder.startswith('source_code_'):\n",
    "            question_path = os.path.join(source_codes_path, folder)\n",
    "            question_data = {}\n",
    "\n",
    "            # Load and save JSON question data\n",
    "            with open(os.path.join(question_path, f'{folder}.json'), 'r') as f:\n",
    "                metadata = json.load(f)\n",
    "                question_data['id'] = folder\n",
    "                question_data['question'] = metadata['question']\n",
    "\n",
    "            # Load candidate's answer\n",
    "            with open(os.path.join(question_path, f'{folder}.{file_extensions_dict.get(metadata[\"programming_language\"], '')}'), 'r') as f:\n",
    "                question_data['candidate_answer'] = f.read()\n",
    "\n",
    "            # Load AI-generated answers\n",
    "            ai_models = ['gpt-3.5-turbo', 'gpt-4', 'gpt-4-turbo']\n",
    "            for model in ai_models:\n",
    "                for i in range(2):\n",
    "                    with open(os.path.join(question_path, f'{folder}_{model}_0{i}.{file_extensions_dict.get(metadata[\"programming_language\"], '')}'), 'r') as f:\n",
    "                        question_data[f'{model}_0{i}'] = f.read()\n",
    "\n",
    "            questions.append(question_data)\n",
    "\n",
    "    return questions"
   ]
  },
  {
   "cell_type": "markdown",
   "metadata": {},
   "source": [
    "### 2.3 `combine_question_answer()` Function\n",
    "This function simply takes a coding question and its corresponding answer (candidate/LLM), merges them, and returns the merged string"
   ]
  },
  {
   "cell_type": "code",
   "execution_count": 4,
   "metadata": {},
   "outputs": [],
   "source": [
    "def combine_question_answer(question, answer):\n",
    "    return f\"Question: {question} Answer: {answer}\""
   ]
  },
  {
   "cell_type": "markdown",
   "metadata": {},
   "source": [
    "### 2.4 `preprocess_data()` Function\n",
    "- **Params:** \n",
    "  - `source_code_path` -> Absolute path to the provided `dataset-source-codes` directory\n",
    "  - `source_codes_labels` -> Absolute path to the provided `CodeAid Source Codes Labeling.xlsx` file with plagiarism scores\n",
    "- **Returns:** `df` -> A Pandas DataFrame containing the preprocessed data\n",
    "\n",
    "This is the core function that preprocesses the provided dataset. First it loads all the `questions` list from the `load_question_data()` function. It also loads in the file with `plagiarism_scores`. Now for each of question object in the `questions` list, it does the following:\n",
    "1. "
   ]
  },
  {
   "cell_type": "code",
   "execution_count": 5,
   "metadata": {},
   "outputs": [],
   "source": [
    "def preprocess_data(source_codes_path, source_codes_labels):\n",
    "    questions = load_question_data(source_codes_path)\n",
    "    plagiarism_scores = pd.read_excel(source_codes_labels)\n",
    "\n",
    "    data = []\n",
    "    for question in questions:\n",
    "        for ai_model in ['gpt-3.5-turbo', 'gpt-4', 'gpt-4-turbo']:\n",
    "            for i in range(2):\n",
    "                score = plagiarism_scores[\n",
    "                    (plagiarism_scores['coding_problem_id'] == question['id']) &\n",
    "                    (plagiarism_scores['llm_answer_id'] == f'{ai_model}_0{i}')\n",
    "                ]['plagiarism_score'].values[0]\n",
    "\n",
    "                data.append({\n",
    "                    'question': question['question'],\n",
    "                    'candidate_answer': question['candidate_answer'],\n",
    "                    'ai_answer': question[f'{ai_model}_0{i}'],\n",
    "                    'similarity_score': score\n",
    "                })\n",
    "\n",
    "    df = pd.DataFrame(data)\n",
    "\n",
    "    df['candidate_combined'] = df.apply(lambda row: combine_question_answer(\n",
    "        row['question'], row['candidate_answer']), axis=1)\n",
    "    df['ai_combined'] = df.apply(lambda row: combine_question_answer(\n",
    "        row['question'], row['ai_answer']), axis=1)\n",
    "\n",
    "    return df"
   ]
  },
  {
   "cell_type": "markdown",
   "metadata": {},
   "source": [
    "### 3. Load the Save the Preprocessed Data\n",
    "Now that we defined all the necessary functions and components for preprocessing, now we perform actual preprocessing and save the data."
   ]
  },
  {
   "cell_type": "code",
   "execution_count": 6,
   "metadata": {},
   "outputs": [
    {
     "name": "stdout",
     "output_type": "stream",
     "text": [
      "Data preprocessing complete. File saved as e:\\Data Science\\AI-Detector\\notebooks\\..\\data\\preprocessed_data.csv\n"
     ]
    }
   ],
   "source": [
    "# Load the original data\n",
    "data_dir = os.path.join(os.path.abspath(''), os.pardir, 'data')\n",
    "source_codes_path = os.path.join(data_dir, 'dataset-source-codes')\n",
    "source_codes_labels = os.path.join(\n",
    "    data_dir, 'CodeAid Source Codes Labeling.xlsx')\n",
    "\n",
    "# Preprocess the data\n",
    "df = preprocess_data(source_codes_path, source_codes_labels)\n",
    "\n",
    "# Save the preprocessed data\n",
    "preprocessed_data = os.path.join(data_dir, 'preprocessed_data.csv')\n",
    "df.to_csv(preprocessed_data, index=False)\n",
    "print(f\"Data preprocessing complete. File saved as {preprocessed_data}\")"
   ]
  },
  {
   "cell_type": "markdown",
   "metadata": {},
   "source": [
    "## 4. Data Exploration\n",
    "This section deals with exploring the preprocessed data. Let's start by quickly checking the shape of the data."
   ]
  },
  {
   "cell_type": "code",
   "execution_count": 7,
   "metadata": {},
   "outputs": [
    {
     "name": "stdout",
     "output_type": "stream",
     "text": [
      "Shape of data: (378, 6)\n"
     ]
    }
   ],
   "source": [
    "print(f\"Shape of data: {df.shape}\")"
   ]
  },
  {
   "cell_type": "markdown",
   "metadata": {},
   "source": [
    "The data has 6 columns as expected. It also has 378 rows. Which it should have. Since, the original dataset had 63 coding questions, and although a single question had a single candidate answer, it actually had 6 different LLM answers. So, 63 x 6 = 378 rows in total. "
   ]
  },
  {
   "cell_type": "markdown",
   "metadata": {},
   "source": [
    "Let's see the first five rows of the data."
   ]
  },
  {
   "cell_type": "code",
   "execution_count": 8,
   "metadata": {},
   "outputs": [
    {
     "data": {
      "text/html": [
       "<div>\n",
       "<style scoped>\n",
       "    .dataframe tbody tr th:only-of-type {\n",
       "        vertical-align: middle;\n",
       "    }\n",
       "\n",
       "    .dataframe tbody tr th {\n",
       "        vertical-align: top;\n",
       "    }\n",
       "\n",
       "    .dataframe thead th {\n",
       "        text-align: right;\n",
       "    }\n",
       "</style>\n",
       "<table border=\"1\" class=\"dataframe\">\n",
       "  <thead>\n",
       "    <tr style=\"text-align: right;\">\n",
       "      <th></th>\n",
       "      <th>question</th>\n",
       "      <th>candidate_answer</th>\n",
       "      <th>ai_answer</th>\n",
       "      <th>similarity_score</th>\n",
       "      <th>candidate_combined</th>\n",
       "      <th>ai_combined</th>\n",
       "    </tr>\n",
       "  </thead>\n",
       "  <tbody>\n",
       "    <tr>\n",
       "      <th>0</th>\n",
       "      <td>Write a program to find the largest element in...</td>\n",
       "      <td>fun findLargestElement(array: IntArray) : Int ...</td>\n",
       "      <td>public class LargestElementFinder {\\n    publi...</td>\n",
       "      <td>0.0</td>\n",
       "      <td>Question: Write a program to find the largest ...</td>\n",
       "      <td>Question: Write a program to find the largest ...</td>\n",
       "    </tr>\n",
       "    <tr>\n",
       "      <th>1</th>\n",
       "      <td>Write a program to find the largest element in...</td>\n",
       "      <td>fun findLargestElement(array: IntArray) : Int ...</td>\n",
       "      <td>public class Main {\\n    public static void ma...</td>\n",
       "      <td>0.0</td>\n",
       "      <td>Question: Write a program to find the largest ...</td>\n",
       "      <td>Question: Write a program to find the largest ...</td>\n",
       "    </tr>\n",
       "    <tr>\n",
       "      <th>2</th>\n",
       "      <td>Write a program to find the largest element in...</td>\n",
       "      <td>fun findLargestElement(array: IntArray) : Int ...</td>\n",
       "      <td>public class Main {\\n  public static void main...</td>\n",
       "      <td>0.0</td>\n",
       "      <td>Question: Write a program to find the largest ...</td>\n",
       "      <td>Question: Write a program to find the largest ...</td>\n",
       "    </tr>\n",
       "    <tr>\n",
       "      <th>3</th>\n",
       "      <td>Write a program to find the largest element in...</td>\n",
       "      <td>fun findLargestElement(array: IntArray) : Int ...</td>\n",
       "      <td>public class Main {\\n    public static void ma...</td>\n",
       "      <td>0.0</td>\n",
       "      <td>Question: Write a program to find the largest ...</td>\n",
       "      <td>Question: Write a program to find the largest ...</td>\n",
       "    </tr>\n",
       "    <tr>\n",
       "      <th>4</th>\n",
       "      <td>Write a program to find the largest element in...</td>\n",
       "      <td>fun findLargestElement(array: IntArray) : Int ...</td>\n",
       "      <td>public class Main {\\n    public static void ma...</td>\n",
       "      <td>0.0</td>\n",
       "      <td>Question: Write a program to find the largest ...</td>\n",
       "      <td>Question: Write a program to find the largest ...</td>\n",
       "    </tr>\n",
       "  </tbody>\n",
       "</table>\n",
       "</div>"
      ],
      "text/plain": [
       "                                            question  \\\n",
       "0  Write a program to find the largest element in...   \n",
       "1  Write a program to find the largest element in...   \n",
       "2  Write a program to find the largest element in...   \n",
       "3  Write a program to find the largest element in...   \n",
       "4  Write a program to find the largest element in...   \n",
       "\n",
       "                                    candidate_answer  \\\n",
       "0  fun findLargestElement(array: IntArray) : Int ...   \n",
       "1  fun findLargestElement(array: IntArray) : Int ...   \n",
       "2  fun findLargestElement(array: IntArray) : Int ...   \n",
       "3  fun findLargestElement(array: IntArray) : Int ...   \n",
       "4  fun findLargestElement(array: IntArray) : Int ...   \n",
       "\n",
       "                                           ai_answer  similarity_score  \\\n",
       "0  public class LargestElementFinder {\\n    publi...               0.0   \n",
       "1  public class Main {\\n    public static void ma...               0.0   \n",
       "2  public class Main {\\n  public static void main...               0.0   \n",
       "3  public class Main {\\n    public static void ma...               0.0   \n",
       "4  public class Main {\\n    public static void ma...               0.0   \n",
       "\n",
       "                                  candidate_combined  \\\n",
       "0  Question: Write a program to find the largest ...   \n",
       "1  Question: Write a program to find the largest ...   \n",
       "2  Question: Write a program to find the largest ...   \n",
       "3  Question: Write a program to find the largest ...   \n",
       "4  Question: Write a program to find the largest ...   \n",
       "\n",
       "                                         ai_combined  \n",
       "0  Question: Write a program to find the largest ...  \n",
       "1  Question: Write a program to find the largest ...  \n",
       "2  Question: Write a program to find the largest ...  \n",
       "3  Question: Write a program to find the largest ...  \n",
       "4  Question: Write a program to find the largest ...  "
      ]
     },
     "execution_count": 8,
     "metadata": {},
     "output_type": "execute_result"
    }
   ],
   "source": [
    "df.head()"
   ]
  },
  {
   "cell_type": "markdown",
   "metadata": {},
   "source": [
    "Let's see the last five rows of the data"
   ]
  },
  {
   "cell_type": "code",
   "execution_count": 9,
   "metadata": {},
   "outputs": [
    {
     "data": {
      "text/html": [
       "<div>\n",
       "<style scoped>\n",
       "    .dataframe tbody tr th:only-of-type {\n",
       "        vertical-align: middle;\n",
       "    }\n",
       "\n",
       "    .dataframe tbody tr th {\n",
       "        vertical-align: top;\n",
       "    }\n",
       "\n",
       "    .dataframe thead th {\n",
       "        text-align: right;\n",
       "    }\n",
       "</style>\n",
       "<table border=\"1\" class=\"dataframe\">\n",
       "  <thead>\n",
       "    <tr style=\"text-align: right;\">\n",
       "      <th></th>\n",
       "      <th>question</th>\n",
       "      <th>candidate_answer</th>\n",
       "      <th>ai_answer</th>\n",
       "      <th>similarity_score</th>\n",
       "      <th>candidate_combined</th>\n",
       "      <th>ai_combined</th>\n",
       "    </tr>\n",
       "  </thead>\n",
       "  <tbody>\n",
       "    <tr>\n",
       "      <th>373</th>\n",
       "      <td>Create a PHP script that will accept a string ...</td>\n",
       "      <td>&lt;?php\\nfunction getTopThreeWords($text) {\\n// ...</td>\n",
       "      <td>&lt;?php\\n\\nfunction findTopThreeWords($input) {\\...</td>\n",
       "      <td>0.3</td>\n",
       "      <td>Question: Create a PHP script that will accept...</td>\n",
       "      <td>Question: Create a PHP script that will accept...</td>\n",
       "    </tr>\n",
       "    <tr>\n",
       "      <th>374</th>\n",
       "      <td>Create a PHP script that will accept a string ...</td>\n",
       "      <td>&lt;?php\\nfunction getTopThreeWords($text) {\\n// ...</td>\n",
       "      <td>function findTopWords($input) {\\n    // Remove...</td>\n",
       "      <td>0.3</td>\n",
       "      <td>Question: Create a PHP script that will accept...</td>\n",
       "      <td>Question: Create a PHP script that will accept...</td>\n",
       "    </tr>\n",
       "    <tr>\n",
       "      <th>375</th>\n",
       "      <td>Create a PHP script that will accept a string ...</td>\n",
       "      <td>&lt;?php\\nfunction getTopThreeWords($text) {\\n// ...</td>\n",
       "      <td>&lt;?php\\n    function mostCommonWords($input) {\\...</td>\n",
       "      <td>0.3</td>\n",
       "      <td>Question: Create a PHP script that will accept...</td>\n",
       "      <td>Question: Create a PHP script that will accept...</td>\n",
       "    </tr>\n",
       "    <tr>\n",
       "      <th>376</th>\n",
       "      <td>Create a PHP script that will accept a string ...</td>\n",
       "      <td>&lt;?php\\nfunction getTopThreeWords($text) {\\n// ...</td>\n",
       "      <td>&lt;?php\\n\\nfunction getTopThreeWords($text) {\\n ...</td>\n",
       "      <td>0.3</td>\n",
       "      <td>Question: Create a PHP script that will accept...</td>\n",
       "      <td>Question: Create a PHP script that will accept...</td>\n",
       "    </tr>\n",
       "    <tr>\n",
       "      <th>377</th>\n",
       "      <td>Create a PHP script that will accept a string ...</td>\n",
       "      <td>&lt;?php\\nfunction getTopThreeWords($text) {\\n// ...</td>\n",
       "      <td>&lt;?php\\n\\n// Function to get the top three most...</td>\n",
       "      <td>0.3</td>\n",
       "      <td>Question: Create a PHP script that will accept...</td>\n",
       "      <td>Question: Create a PHP script that will accept...</td>\n",
       "    </tr>\n",
       "  </tbody>\n",
       "</table>\n",
       "</div>"
      ],
      "text/plain": [
       "                                              question  \\\n",
       "373  Create a PHP script that will accept a string ...   \n",
       "374  Create a PHP script that will accept a string ...   \n",
       "375  Create a PHP script that will accept a string ...   \n",
       "376  Create a PHP script that will accept a string ...   \n",
       "377  Create a PHP script that will accept a string ...   \n",
       "\n",
       "                                      candidate_answer  \\\n",
       "373  <?php\\nfunction getTopThreeWords($text) {\\n// ...   \n",
       "374  <?php\\nfunction getTopThreeWords($text) {\\n// ...   \n",
       "375  <?php\\nfunction getTopThreeWords($text) {\\n// ...   \n",
       "376  <?php\\nfunction getTopThreeWords($text) {\\n// ...   \n",
       "377  <?php\\nfunction getTopThreeWords($text) {\\n// ...   \n",
       "\n",
       "                                             ai_answer  similarity_score  \\\n",
       "373  <?php\\n\\nfunction findTopThreeWords($input) {\\...               0.3   \n",
       "374  function findTopWords($input) {\\n    // Remove...               0.3   \n",
       "375  <?php\\n    function mostCommonWords($input) {\\...               0.3   \n",
       "376  <?php\\n\\nfunction getTopThreeWords($text) {\\n ...               0.3   \n",
       "377  <?php\\n\\n// Function to get the top three most...               0.3   \n",
       "\n",
       "                                    candidate_combined  \\\n",
       "373  Question: Create a PHP script that will accept...   \n",
       "374  Question: Create a PHP script that will accept...   \n",
       "375  Question: Create a PHP script that will accept...   \n",
       "376  Question: Create a PHP script that will accept...   \n",
       "377  Question: Create a PHP script that will accept...   \n",
       "\n",
       "                                           ai_combined  \n",
       "373  Question: Create a PHP script that will accept...  \n",
       "374  Question: Create a PHP script that will accept...  \n",
       "375  Question: Create a PHP script that will accept...  \n",
       "376  Question: Create a PHP script that will accept...  \n",
       "377  Question: Create a PHP script that will accept...  "
      ]
     },
     "execution_count": 9,
     "metadata": {},
     "output_type": "execute_result"
    }
   ],
   "source": [
    "df.tail()"
   ]
  },
  {
   "cell_type": "markdown",
   "metadata": {},
   "source": [
    "Let's check DataFrame info."
   ]
  },
  {
   "cell_type": "code",
   "execution_count": 10,
   "metadata": {},
   "outputs": [
    {
     "name": "stdout",
     "output_type": "stream",
     "text": [
      "<class 'pandas.core.frame.DataFrame'>\n",
      "RangeIndex: 378 entries, 0 to 377\n",
      "Data columns (total 6 columns):\n",
      " #   Column              Non-Null Count  Dtype  \n",
      "---  ------              --------------  -----  \n",
      " 0   question            378 non-null    object \n",
      " 1   candidate_answer    378 non-null    object \n",
      " 2   ai_answer           378 non-null    object \n",
      " 3   similarity_score    378 non-null    float64\n",
      " 4   candidate_combined  378 non-null    object \n",
      " 5   ai_combined         378 non-null    object \n",
      "dtypes: float64(1), object(5)\n",
      "memory usage: 17.8+ KB\n"
     ]
    }
   ],
   "source": [
    "df.info()"
   ]
  },
  {
   "cell_type": "markdown",
   "metadata": {},
   "source": [
    "Let's describe the dataset."
   ]
  },
  {
   "cell_type": "code",
   "execution_count": 11,
   "metadata": {},
   "outputs": [
    {
     "data": {
      "text/html": [
       "<div>\n",
       "<style scoped>\n",
       "    .dataframe tbody tr th:only-of-type {\n",
       "        vertical-align: middle;\n",
       "    }\n",
       "\n",
       "    .dataframe tbody tr th {\n",
       "        vertical-align: top;\n",
       "    }\n",
       "\n",
       "    .dataframe thead th {\n",
       "        text-align: right;\n",
       "    }\n",
       "</style>\n",
       "<table border=\"1\" class=\"dataframe\">\n",
       "  <thead>\n",
       "    <tr style=\"text-align: right;\">\n",
       "      <th></th>\n",
       "      <th>similarity_score</th>\n",
       "    </tr>\n",
       "  </thead>\n",
       "  <tbody>\n",
       "    <tr>\n",
       "      <th>count</th>\n",
       "      <td>378.000000</td>\n",
       "    </tr>\n",
       "    <tr>\n",
       "      <th>mean</th>\n",
       "      <td>0.297090</td>\n",
       "    </tr>\n",
       "    <tr>\n",
       "      <th>std</th>\n",
       "      <td>0.267847</td>\n",
       "    </tr>\n",
       "    <tr>\n",
       "      <th>min</th>\n",
       "      <td>0.000000</td>\n",
       "    </tr>\n",
       "    <tr>\n",
       "      <th>25%</th>\n",
       "      <td>0.100000</td>\n",
       "    </tr>\n",
       "    <tr>\n",
       "      <th>50%</th>\n",
       "      <td>0.200000</td>\n",
       "    </tr>\n",
       "    <tr>\n",
       "      <th>75%</th>\n",
       "      <td>0.400000</td>\n",
       "    </tr>\n",
       "    <tr>\n",
       "      <th>max</th>\n",
       "      <td>0.900000</td>\n",
       "    </tr>\n",
       "  </tbody>\n",
       "</table>\n",
       "</div>"
      ],
      "text/plain": [
       "       similarity_score\n",
       "count        378.000000\n",
       "mean           0.297090\n",
       "std            0.267847\n",
       "min            0.000000\n",
       "25%            0.100000\n",
       "50%            0.200000\n",
       "75%            0.400000\n",
       "max            0.900000"
      ]
     },
     "execution_count": 11,
     "metadata": {},
     "output_type": "execute_result"
    }
   ],
   "source": [
    "df.describe()"
   ]
  },
  {
   "cell_type": "markdown",
   "metadata": {},
   "source": [
    "Let's check for null/empty values"
   ]
  },
  {
   "cell_type": "code",
   "execution_count": 12,
   "metadata": {},
   "outputs": [
    {
     "data": {
      "text/plain": [
       "question              0\n",
       "candidate_answer      0\n",
       "ai_answer             0\n",
       "similarity_score      0\n",
       "candidate_combined    0\n",
       "ai_combined           0\n",
       "dtype: int64"
      ]
     },
     "execution_count": 12,
     "metadata": {},
     "output_type": "execute_result"
    }
   ],
   "source": [
    "df.isnull().sum()"
   ]
  },
  {
   "cell_type": "markdown",
   "metadata": {},
   "source": [
    "The preprocessed data looks good. We can proceed to the training phase."
   ]
  }
 ],
 "metadata": {
  "kernelspec": {
   "display_name": "venv",
   "language": "python",
   "name": "python3"
  },
  "language_info": {
   "codemirror_mode": {
    "name": "ipython",
    "version": 3
   },
   "file_extension": ".py",
   "mimetype": "text/x-python",
   "name": "python",
   "nbconvert_exporter": "python",
   "pygments_lexer": "ipython3",
   "version": "3.12.2"
  }
 },
 "nbformat": 4,
 "nbformat_minor": 2
}
