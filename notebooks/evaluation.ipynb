{
 "cells": [
  {
   "cell_type": "markdown",
   "metadata": {},
   "source": [
    "# AI Detector - Evaluation"
   ]
  },
  {
   "cell_type": "markdown",
   "metadata": {},
   "source": [
    "## 1. Import Necessary Dependencies"
   ]
  },
  {
   "cell_type": "code",
   "execution_count": 6,
   "metadata": {},
   "outputs": [],
   "source": [
    "import os\n",
    "import torch\n",
    "import numpy as np\n",
    "import pandas as pd\n",
    "from sklearn.metrics import mean_squared_error, mean_absolute_error, r2_score\n",
    "from sentence_transformers import SentenceTransformer, util"
   ]
  },
  {
   "cell_type": "markdown",
   "metadata": {},
   "source": [
    "We should also specify `device` for GPU accelerated training (if GPU is available)"
   ]
  },
  {
   "cell_type": "code",
   "execution_count": 7,
   "metadata": {},
   "outputs": [
    {
     "name": "stdout",
     "output_type": "stream",
     "text": [
      "cpu\n"
     ]
    }
   ],
   "source": [
    "device = torch.device(f\"cuda\" if torch.cuda.is_available() else \"cpu\")\n",
    "print(device)"
   ]
  },
  {
   "cell_type": "markdown",
   "metadata": {},
   "source": [
    "## 2. Define `evaluate_model()` function\n",
    "\n",
    "- **Params:**\n",
    "  - `model` -> Fine-tuned model path\n",
    "  - `df` -> Preprocessed data\n",
    "- **Returns:**\n",
    "  - `mse` -> Mean squared error\n",
    "  - `rmse` -> Root mean squared error\n",
    "  - `mae` -> Mean absolute error\n",
    "  - `r2` -> r-squared error"
   ]
  },
  {
   "cell_type": "code",
   "execution_count": 8,
   "metadata": {},
   "outputs": [],
   "source": [
    "def evaluate_model(model, df):\n",
    "    # Encode all sentences\n",
    "    candidate_embeddings = model.encode(df['candidate_combined'].tolist())\n",
    "    ai_embeddings = model.encode(df['ai_combined'].tolist())\n",
    "\n",
    "    # Calculate cosine similarities\n",
    "    cosine_scores = [util.pytorch_cos_sim(c, a).item(\n",
    "    ) for c, a in zip(candidate_embeddings, ai_embeddings)]\n",
    "\n",
    "    # Calculate evaluation metrics\n",
    "    mse = mean_squared_error(df['similarity_score'], cosine_scores)\n",
    "    rmse = np.sqrt(mse)\n",
    "    mae = mean_absolute_error(df['similarity_score'], cosine_scores)\n",
    "    r2 = r2_score(df['similarity_score'], cosine_scores)\n",
    "\n",
    "    print(f\"Mean Squared Error: {mse:.4f}\")\n",
    "    print(f\"Root Mean Squared Error: {rmse:.4f}\")\n",
    "    print(f\"Mean Absolute Error: {mae:.4f}\")\n",
    "    print(f\"R-squared Score: {r2:.4f}\")\n",
    "\n",
    "    return mse, rmse, mae, r2"
   ]
  },
  {
   "cell_type": "markdown",
   "metadata": {},
   "source": [
    "## 3. Evaluate the Model\n",
    "Load the exported model"
   ]
  },
  {
   "cell_type": "code",
   "execution_count": 9,
   "metadata": {},
   "outputs": [],
   "source": [
    "# Load the train data\n",
    "data_dir = os.path.join(os.path.abspath(''), os.pardir, 'data')\n",
    "df = pd.read_csv(os.path.join(data_dir, 'preprocessed_data.csv'))\n",
    "\n",
    "# Define model export/output path\n",
    "model_dir = os.path.join(\n",
    "    os.path.abspath(''), os.pardir, 'models')\n",
    "model_path = os.path.join(model_dir, 'fine-tuned_all-MiniLM-L6-v2')"
   ]
  },
  {
   "cell_type": "markdown",
   "metadata": {},
   "source": [
    "Evaluate the Model"
   ]
  },
  {
   "cell_type": "code",
   "execution_count": 10,
   "metadata": {},
   "outputs": [
    {
     "name": "stdout",
     "output_type": "stream",
     "text": [
      "Mean Squared Error: 0.0168\n",
      "Root Mean Squared Error: 0.1296\n",
      "Mean Absolute Error: 0.0854\n",
      "R-squared Score: 0.7651\n"
     ]
    }
   ],
   "source": [
    "model = SentenceTransformer(model_path, device=device)\n",
    "mse, rmse, mae, r2 = evaluate_model(model, df)"
   ]
  }
 ],
 "metadata": {
  "kernelspec": {
   "display_name": "venv",
   "language": "python",
   "name": "python3"
  },
  "language_info": {
   "codemirror_mode": {
    "name": "ipython",
    "version": 3
   },
   "file_extension": ".py",
   "mimetype": "text/x-python",
   "name": "python",
   "nbconvert_exporter": "python",
   "pygments_lexer": "ipython3",
   "version": "3.12.2"
  }
 },
 "nbformat": 4,
 "nbformat_minor": 2
}
