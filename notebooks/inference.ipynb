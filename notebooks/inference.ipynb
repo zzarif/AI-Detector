{
 "cells": [
  {
   "cell_type": "markdown",
   "metadata": {},
   "source": [
    "# AI Detector - Inference"
   ]
  },
  {
   "cell_type": "markdown",
   "metadata": {},
   "source": [
    "## 1. Import Necessary Dependencies"
   ]
  },
  {
   "cell_type": "code",
   "execution_count": 29,
   "metadata": {},
   "outputs": [],
   "source": [
    "import os\n",
    "import torch\n",
    "from sentence_transformers import SentenceTransformer, util"
   ]
  },
  {
   "cell_type": "markdown",
   "metadata": {},
   "source": [
    "We should also specify `device` for GPU accelerated training (if GPU is available)"
   ]
  },
  {
   "cell_type": "code",
   "execution_count": 30,
   "metadata": {},
   "outputs": [
    {
     "name": "stdout",
     "output_type": "stream",
     "text": [
      "cpu\n"
     ]
    }
   ],
   "source": [
    "device = torch.device(f\"cuda\" if torch.cuda.is_available() else \"cpu\")\n",
    "print(device)"
   ]
  },
  {
   "cell_type": "markdown",
   "metadata": {},
   "source": [
    "## 2. Define `predict_similarity()` Function\n",
    "\n",
    "- **Params:**\n",
    "  - `model` -> Fine-tuned model path\n",
    "  - `question` -> An unseen coding question\n",
    "  - `candidate_answer` -> An unseen candidate answer\n",
    "  - `ai_answer` -> An unseen AI answer\n",
    "- **Returns:**\n",
    "  - `similarity_score`: Predicted plagiarism score"
   ]
  },
  {
   "cell_type": "code",
   "execution_count": 31,
   "metadata": {},
   "outputs": [],
   "source": [
    "def predict_similarity(model, question, candidate_answer, ai_answer):\n",
    "    candidate_combined = f\"Question: {question} Answer: {candidate_answer}\"\n",
    "    ai_combined = f\"Question: {question} Answer: {ai_answer}\"\n",
    "\n",
    "    embeddings = model.encode([candidate_combined, ai_combined])\n",
    "    similarity_score = util.pytorch_cos_sim(\n",
    "        embeddings[0], embeddings[1]).item()\n",
    "\n",
    "    return similarity_score"
   ]
  },
  {
   "cell_type": "markdown",
   "metadata": {},
   "source": [
    "## 3. Perform Inference with Unseen Data"
   ]
  },
  {
   "cell_type": "markdown",
   "metadata": {},
   "source": [
    "Load the fine-tuned model"
   ]
  },
  {
   "cell_type": "code",
   "execution_count": 32,
   "metadata": {},
   "outputs": [],
   "source": [
    "# Load the trained model\n",
    "model_dir = data_dir = os.path.join(\n",
    "    os.path.abspath(''), os.pardir, 'models')\n",
    "model_path = os.path.join(model_dir, 'fine-tuned_all-MiniLM-L6-v2')\n",
    "model = SentenceTransformer(model_path, device=device)"
   ]
  },
  {
   "cell_type": "markdown",
   "metadata": {},
   "source": [
    "Prepare unseen data"
   ]
  },
  {
   "cell_type": "code",
   "execution_count": 35,
   "metadata": {},
   "outputs": [],
   "source": [
    "question = \"Write a function to find the largest element in an array.\"\n",
    "candidate_answer = \"\"\"\n",
    "def get_largest(arr):\n",
    "    if not arr:\n",
    "        return None\n",
    "    max_element = arr[0]\n",
    "    for element in arr[1:]:\n",
    "        if element > max_element:\n",
    "            max_element = element\n",
    "    return max_element\n",
    "\"\"\"\n",
    "ai_answer = \"\"\"\n",
    "def find_largest(arr):\n",
    "    return max(arr) if arr else None\n",
    "\"\"\""
   ]
  },
  {
   "cell_type": "markdown",
   "metadata": {},
   "source": [
    "Predict similarity"
   ]
  },
  {
   "cell_type": "code",
   "execution_count": 34,
   "metadata": {},
   "outputs": [
    {
     "name": "stdout",
     "output_type": "stream",
     "text": [
      "Similarity score: 0.7903\n"
     ]
    }
   ],
   "source": [
    "similarity = predict_similarity(\n",
    "        model, question, candidate_answer, ai_answer)\n",
    "print(f\"Similarity score: {similarity:.4f}\")"
   ]
  }
 ],
 "metadata": {
  "kernelspec": {
   "display_name": "venv",
   "language": "python",
   "name": "python3"
  },
  "language_info": {
   "codemirror_mode": {
    "name": "ipython",
    "version": 3
   },
   "file_extension": ".py",
   "mimetype": "text/x-python",
   "name": "python",
   "nbconvert_exporter": "python",
   "pygments_lexer": "ipython3",
   "version": "3.12.2"
  }
 },
 "nbformat": 4,
 "nbformat_minor": 2
}
