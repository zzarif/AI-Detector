{
 "cells": [
  {
   "cell_type": "markdown",
   "metadata": {},
   "source": [
    "# AI Detector - Model Training"
   ]
  },
  {
   "cell_type": "markdown",
   "metadata": {},
   "source": [
    "## 1. Import Necessary Dependencies"
   ]
  },
  {
   "cell_type": "markdown",
   "metadata": {},
   "source": [
    "At first, we need to import required libraries for preprocessing"
   ]
  },
  {
   "cell_type": "code",
   "execution_count": 1,
   "metadata": {},
   "outputs": [
    {
     "name": "stderr",
     "output_type": "stream",
     "text": [
      "e:\\Data Science\\AI-Detector\\venv\\Lib\\site-packages\\sentence_transformers\\cross_encoder\\CrossEncoder.py:11: TqdmWarning: IProgress not found. Please update jupyter and ipywidgets. See https://ipywidgets.readthedocs.io/en/stable/user_install.html\n",
      "  from tqdm.autonotebook import tqdm, trange\n"
     ]
    }
   ],
   "source": [
    "import os\n",
    "import torch\n",
    "import pandas as pd\n",
    "from sklearn.model_selection import train_test_split\n",
    "from sentence_transformers import SentenceTransformer, InputExample, losses\n",
    "from sentence_transformers.evaluation import EmbeddingSimilarityEvaluator\n",
    "from torch.utils.data import DataLoader"
   ]
  },
  {
   "cell_type": "markdown",
   "metadata": {},
   "source": [
    "We should also specify `device` for GPU accelerated training (if GPU is available)"
   ]
  },
  {
   "cell_type": "code",
   "execution_count": 2,
   "metadata": {},
   "outputs": [
    {
     "name": "stdout",
     "output_type": "stream",
     "text": [
      "cuda\n"
     ]
    }
   ],
   "source": [
    "device = torch.device(f\"cuda\" if torch.cuda.is_available() else \"cpu\")\n",
    "print(device)"
   ]
  },
  {
   "cell_type": "markdown",
   "metadata": {},
   "source": [
    "## 2. Define `train_model()` Function\n",
    "\n",
    "- **Params:** \n",
    "  - `df` -> The preprocessed data\n",
    "  - `model_name` -> The specified Sentence Transformer from [sbert.net](https://www.sbert.net)\n",
    "  - `output_path` -> Fine-tuned model export path\n",
    "  - `epochs` -> Number of iterations in the training loop (defaults to 5)\n",
    "  - `batch_size` -> Size of batches of training data (defaults to 16)\n",
    "- **Returns:** The fine-tuned model\n",
    "\n",
    "\n",
    "This function performs feature extraction. The process of **feature extraction** is centered around the specified `SentenceTransformer` model, which is used to encode textual data into dense numerical vectors (embeddings). Following is a detailed explanation of how feature extraction is done:\n",
    "\n",
    "1. **Input Data**:\n",
    "   - The input to the model consists of two columns: `candidate_combined` (the candidate's answer) and `ai_combined` (the AI-generated answer). These represent the two pieces of text whose similarity will be compared.\n",
    "   - The `similarity_score` is the label, representing how similar the two pieces of text are, which the model learns to predict during training.\n",
    "\n",
    "2. **Creating Examples for Training**:\n",
    "   - The line `InputExample(texts=[row['candidate_combined'], row['ai_combined']], label=float(row['similarity_score']))` creates training examples for the model.\n",
    "   - `texts` is a pair of texts that will be encoded into numerical vectors (embeddings) by the `SentenceTransformer` model. These embeddings represent the features extracted from the text data.\n",
    "   - These `InputExample`s are then passed into a `DataLoader`, which prepares batches of data for training.\n",
    "\n",
    "3. **SentenceTransformer Model**:\n",
    "   - The core feature extraction happens when the `SentenceTransformer(model_name)` is initialized. This model is pre-trained on large corpora and can convert input texts into high-dimensional vectors (embeddings).\n",
    "   - When the training data is passed through the model, it encodes each text (from both `candidate_combined` and `ai_combined`) into a fixed-size embedding. These embeddings are vector representations of the text that capture semantic meaning, making them suitable for downstream tasks like similarity measurement.\n",
    "\n",
    "4. **Cosine Similarity Loss**:\n",
    "   - The `CosineSimilarityLoss` is used as the loss function for training. The model learns to minimize the cosine distance between embeddings of semantically similar texts (texts with higher `similarity_score`) and maximize the distance for dissimilar ones.\n",
    "   - This process adjusts the model's weights to better encode the features that represent textual similarity.\n",
    "\n",
    "5. **Validation and Evaluation**:\n",
    "   - For validation, the code prepares examples similarly, but these are used for evaluation instead of training.\n",
    "   - The `EmbeddingSimilarityEvaluator` computes the similarity between the embeddings of `candidate_combined` and `ai_combined` using their cosine similarity, and compares it with the actual `similarity_score`.\n",
    "\n",
    "6. **How Features Are Encoded**:\n",
    "   - Each piece of text (both `candidate_combined` and `ai_combined`) is passed through the `SentenceTransformer` model.\n",
    "   - The model tokenizes the text, then converts it into a dense embedding vector of fixed length. These embeddings encode semantic information about the text.\n",
    "   - The embeddings are the \"features\" extracted from the text, which are then used to compute similarity.\n",
    "\n",
    "The **features** in this code are the dense embeddings extracted by the `SentenceTransformer` model. These embeddings are used to train the model to learn similarities between pairs of text using the cosine similarity loss function."
   ]
  },
  {
   "cell_type": "code",
   "execution_count": 3,
   "metadata": {},
   "outputs": [],
   "source": [
    "def train_model(df, model_name, output_path, epochs=5, batch_size=16):\n",
    "    # Split the data into train and test sets\n",
    "    train_df, valid_df = train_test_split(df, test_size=0.2, random_state=42)\n",
    "\n",
    "    # Create examples for training\n",
    "    train_examples = [InputExample(texts=[row['candidate_combined'], row['ai_combined']], label=float(\n",
    "        row['similarity_score'])) for _, row in train_df.iterrows()]\n",
    "\n",
    "    # Create DataLoader for training with appropriate batch size\n",
    "    train_dataloader = DataLoader(\n",
    "        train_examples, shuffle=True, batch_size=batch_size)\n",
    "\n",
    "    # Initialize the specified SentenceTransformer model\n",
    "    model = SentenceTransformer(model_name, device=device)\n",
    "\n",
    "    # Define the loss function\n",
    "    train_loss = losses.CosineSimilarityLoss(model)\n",
    "\n",
    "    # Prepare validation data\n",
    "    valid_samples = [(row['candidate_combined'], row['ai_combined'], row['similarity_score'])\n",
    "                     for _, row in valid_df.iterrows()]\n",
    "    valid_examples = [InputExample(\n",
    "        texts=[s[0], s[1]], label=float(s[2])) for s in valid_samples]\n",
    "\n",
    "    # Create an evaluator\n",
    "    evaluator = EmbeddingSimilarityEvaluator.from_input_examples(\n",
    "        valid_examples, name='validation')\n",
    "\n",
    "    # Train/fine-tune the model\n",
    "    model.fit(train_objectives=[(train_dataloader, train_loss)],\n",
    "              epochs=epochs,\n",
    "              warmup_steps=100,\n",
    "              evaluator=evaluator,\n",
    "              evaluation_steps=500,\n",
    "              output_path=output_path,\n",
    "              show_progress_bar=True)\n",
    "    \n",
    "    return model"
   ]
  },
  {
   "cell_type": "markdown",
   "metadata": {},
   "source": [
    "## 3. Train the Model\n",
    "At first, we specify the Sentence Transformer model."
   ]
  },
  {
   "cell_type": "code",
   "execution_count": 4,
   "metadata": {},
   "outputs": [],
   "source": [
    "# model_name = \"all-mpnet-base-v2\"\n",
    "# model_name = \"all-distilroberta-v1\"\n",
    "# model_name = \"all-MiniLM-L12-v2\"\n",
    "# model_name = \"all-MiniLM-L6-v2\"\n",
    "model_name = \"multi-qa-mpnet-base-dot-v1\""
   ]
  },
  {
   "cell_type": "markdown",
   "metadata": {},
   "source": [
    "Then, specify the hyperparameters"
   ]
  },
  {
   "cell_type": "code",
   "execution_count": 5,
   "metadata": {},
   "outputs": [],
   "source": [
    "epochs = 5\n",
    "batch_size = 4"
   ]
  },
  {
   "cell_type": "markdown",
   "metadata": {},
   "source": [
    "Now, we specify the data and model export directories."
   ]
  },
  {
   "cell_type": "code",
   "execution_count": 6,
   "metadata": {},
   "outputs": [],
   "source": [
    "# Load the preprocessed data\n",
    "data_dir = os.path.join(os.path.abspath(''), os.pardir, 'data')\n",
    "df = pd.read_csv(os.path.join(data_dir, 'preprocessed_data.csv'))\n",
    "\n",
    "# Define model export/output path\n",
    "model_dir = os.path.join(\n",
    "    os.path.abspath(''), os.pardir, 'models')\n",
    "output_path = os.path.join(model_dir, f'fine-tuned_{model_name}')"
   ]
  },
  {
   "cell_type": "markdown",
   "metadata": {},
   "source": [
    "Train the model"
   ]
  },
  {
   "cell_type": "code",
   "execution_count": 7,
   "metadata": {},
   "outputs": [
    {
     "name": "stderr",
     "output_type": "stream",
     "text": [
      "e:\\Data Science\\AI-Detector\\venv\\Lib\\site-packages\\transformers\\tokenization_utils_base.py:1601: FutureWarning: `clean_up_tokenization_spaces` was not set. It will be set to `True` by default. This behavior will be depracted in transformers v4.45, and will be then set to `False` by default. For more details check this issue: https://github.com/huggingface/transformers/issues/31884\n",
      "  warnings.warn(\n",
      "100%|██████████| 380/380 [40:31<00:00,  6.40s/it] "
     ]
    },
    {
     "name": "stdout",
     "output_type": "stream",
     "text": [
      "{'train_runtime': 2431.2833, 'train_samples_per_second': 0.621, 'train_steps_per_second': 0.156, 'train_loss': 0.04405767541182669, 'epoch': 5.0}\n",
      "Model training complete. Model saved as e:\\Data Science\\AI-Detector\\notebooks\\..\\models\\fine-tuned_multi-qa-mpnet-base-dot-v1\n"
     ]
    },
    {
     "name": "stderr",
     "output_type": "stream",
     "text": [
      "\n"
     ]
    }
   ],
   "source": [
    "# Train the model\n",
    "model = train_model(df, model_name, output_path, epochs=epochs, batch_size=batch_size)\n",
    "\n",
    "print(f\"Model training complete. Model saved as {output_path}\")"
   ]
  }
 ],
 "metadata": {
  "kernelspec": {
   "display_name": "venv",
   "language": "python",
   "name": "python3"
  },
  "language_info": {
   "codemirror_mode": {
    "name": "ipython",
    "version": 3
   },
   "file_extension": ".py",
   "mimetype": "text/x-python",
   "name": "python",
   "nbconvert_exporter": "python",
   "pygments_lexer": "ipython3",
   "version": "3.12.2"
  }
 },
 "nbformat": 4,
 "nbformat_minor": 2
}
